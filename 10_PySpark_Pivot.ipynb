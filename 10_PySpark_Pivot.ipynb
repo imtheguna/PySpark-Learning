{
  "nbformat": 4,
  "nbformat_minor": 0,
  "metadata": {
    "colab": {
      "provenance": [],
      "authorship_tag": "ABX9TyMrxjfxuUIh67D8/rwnf74s",
      "include_colab_link": true
    },
    "kernelspec": {
      "name": "python3",
      "display_name": "Python 3"
    },
    "language_info": {
      "name": "python"
    }
  },
  "cells": [
    {
      "cell_type": "markdown",
      "metadata": {
        "id": "view-in-github",
        "colab_type": "text"
      },
      "source": [
        "<a href=\"https://colab.research.google.com/github/imtheguna/PySpark-Learning/blob/GoogleColab/10_PySpark_Pivot.ipynb\" target=\"_parent\"><img src=\"https://colab.research.google.com/assets/colab-badge.svg\" alt=\"Open In Colab\"/></a>"
      ]
    },
    {
      "cell_type": "code",
      "execution_count": 2,
      "metadata": {
        "colab": {
          "base_uri": "https://localhost:8080/"
        },
        "id": "zclVoEymU_mx",
        "outputId": "1f85574b-77ac-4a7b-9f7f-ec9fcb9253fa"
      },
      "outputs": [
        {
          "output_type": "stream",
          "name": "stdout",
          "text": [
            "\r0% [Working]\r            \rGet:1 http://security.ubuntu.com/ubuntu jammy-security InRelease [110 kB]\n",
            "\r0% [Connecting to archive.ubuntu.com] [1 InRelease 8,192 B/110 kB 7%] [Waiting for headers] [Connect\r                                                                                                    \rGet:2 https://cloud.r-project.org/bin/linux/ubuntu jammy-cran40/ InRelease [3,626 B]\n",
            "Get:3 https://developer.download.nvidia.com/compute/cuda/repos/ubuntu2204/x86_64  InRelease [1,581 B]\n",
            "Hit:4 http://archive.ubuntu.com/ubuntu jammy InRelease\n",
            "Get:5 http://archive.ubuntu.com/ubuntu jammy-updates InRelease [119 kB]\n",
            "Get:6 http://archive.ubuntu.com/ubuntu jammy-backports InRelease [109 kB]\n",
            "Get:7 https://developer.download.nvidia.com/compute/cuda/repos/ubuntu2204/x86_64  Packages [830 kB]\n",
            "Hit:8 https://ppa.launchpadcontent.net/c2d4u.team/c2d4u4.0+/ubuntu jammy InRelease\n",
            "Get:9 https://ppa.launchpadcontent.net/deadsnakes/ppa/ubuntu jammy InRelease [18.1 kB]\n",
            "Hit:10 https://ppa.launchpadcontent.net/graphics-drivers/ppa/ubuntu jammy InRelease\n",
            "Get:11 http://security.ubuntu.com/ubuntu jammy-security/main amd64 Packages [1,798 kB]\n",
            "Hit:12 https://ppa.launchpadcontent.net/ubuntugis/ppa/ubuntu jammy InRelease\n",
            "Get:13 http://archive.ubuntu.com/ubuntu jammy-updates/universe amd64 Packages [1,374 kB]\n",
            "Get:14 http://security.ubuntu.com/ubuntu jammy-security/universe amd64 Packages [1,082 kB]\n",
            "Get:15 http://archive.ubuntu.com/ubuntu jammy-updates/main amd64 Packages [2,069 kB]\n",
            "Get:16 https://ppa.launchpadcontent.net/deadsnakes/ppa/ubuntu jammy/main amd64 Packages [27.8 kB]\n",
            "Fetched 7,542 kB in 3s (2,221 kB/s)\n",
            "Reading package lists... Done\n",
            "sample_data  spark-3.1.1-bin-hadoop3.2\tspark-3.1.1-bin-hadoop3.2.tgz\n",
            "Collecting pyspark\n",
            "  Downloading pyspark-3.5.1.tar.gz (317.0 MB)\n",
            "\u001b[2K     \u001b[90m━━━━━━━━━━━━━━━━━━━━━━━━━━━━━━━━━━━━━━━━\u001b[0m \u001b[32m317.0/317.0 MB\u001b[0m \u001b[31m4.3 MB/s\u001b[0m eta \u001b[36m0:00:00\u001b[0m\n",
            "\u001b[?25h  Preparing metadata (setup.py) ... \u001b[?25l\u001b[?25hdone\n",
            "Requirement already satisfied: py4j==0.10.9.7 in /usr/local/lib/python3.10/dist-packages (from pyspark) (0.10.9.7)\n",
            "Building wheels for collected packages: pyspark\n",
            "  Building wheel for pyspark (setup.py) ... \u001b[?25l\u001b[?25hdone\n",
            "  Created wheel for pyspark: filename=pyspark-3.5.1-py2.py3-none-any.whl size=317488491 sha256=4aa3e60ca4b095e019152f65282161cc48badff26d9e6d645551666cbd16634c\n",
            "  Stored in directory: /root/.cache/pip/wheels/80/1d/60/2c256ed38dddce2fdd93be545214a63e02fbd8d74fb0b7f3a6\n",
            "Successfully built pyspark\n",
            "Installing collected packages: pyspark\n",
            "Successfully installed pyspark-3.5.1\n"
          ]
        }
      ],
      "source": [
        "!apt-get update # Update apt-get repository.\n",
        "!apt-get install openjdk-8-jdk-headless -qq > /dev/null # Install Java.\n",
        "!wget -q http://archive.apache.org/dist/spark/spark-3.1.1/spark-3.1.1-bin-hadoop3.2.tgz # Download Apache Sparks.\n",
        "!tar xf spark-3.1.1-bin-hadoop3.2.tgz # Unzip the tgz file.\n",
        "!pip install -q findspark # Install findspark. Adds PySpark to the System path during runtime.\n",
        "\n",
        "# Set environment variables\n",
        "import os\n",
        "os.environ[\"JAVA_HOME\"] = \"/usr/lib/jvm/java-8-openjdk-amd64\"\n",
        "os.environ[\"SPARK_HOME\"] = \"/content/spark-3.1.1-bin-hadoop3.2\"\n",
        "\n",
        "!ls\n",
        "\n",
        "# Initialize findspark\n",
        "import findspark\n",
        "findspark.init()\n",
        "!pip install pyspark"
      ]
    },
    {
      "cell_type": "code",
      "source": [
        "from pyspark.sql import SparkSession\n",
        "from pyspark.sql.functions import *\n",
        "\n",
        "spark = SparkSession \\\n",
        "      .builder \\\n",
        "      .appName('SelectColumns').getOrCreate()\n",
        "\n",
        "df = spark.read.csv('/content/data2.csv',header=True,inferSchema=True)\n",
        "\n",
        "df = df.select('period','total_earnings','region_name')\n",
        "\n",
        "df.show(3)"
      ],
      "metadata": {
        "colab": {
          "base_uri": "https://localhost:8080/"
        },
        "id": "MKYXrr32VEAp",
        "outputId": "7273d53a-90e7-4745-9309-0996e7d6f0c2"
      },
      "execution_count": 5,
      "outputs": [
        {
          "output_type": "stream",
          "name": "stdout",
          "text": [
            "+-------+--------------+-----------+\n",
            "| period|total_earnings|region_name|\n",
            "+-------+--------------+-----------+\n",
            "|2020.09|           953|  Northland|\n",
            "|2020.09|         12420|   Auckland|\n",
            "|2020.09|          3041|    Waikato|\n",
            "+-------+--------------+-----------+\n",
            "only showing top 3 rows\n",
            "\n"
          ]
        }
      ]
    },
    {
      "cell_type": "code",
      "source": [
        "df1 = df.where(col('region_name').isin(['Gisborne','Canterbury'])).groupBy('period').pivot('region_name').sum('total_earnings')\n",
        "\n",
        "df1.show(10)"
      ],
      "metadata": {
        "colab": {
          "base_uri": "https://localhost:8080/"
        },
        "id": "dXZwIVt4V1_2",
        "outputId": "2c747716-5204-46a9-ee00-25a886607186"
      },
      "execution_count": 6,
      "outputs": [
        {
          "output_type": "stream",
          "name": "stdout",
          "text": [
            "+-------+----------+--------+\n",
            "| period|Canterbury|Gisborne|\n",
            "+-------+----------+--------+\n",
            "|2022.12|      5113|     326|\n",
            "|2022.03|      4607|     304|\n",
            "|2020.12|      4266|     286|\n",
            "|2021.03|      4196|     285|\n",
            "|2021.06|      4341|     291|\n",
            "|2021.12|      4734|     319|\n",
            "|2022.09|      4900|     321|\n",
            "|2022.06|      4762|     316|\n",
            "|2021.09|      4450|     295|\n",
            "|2020.09|      4232|     276|\n",
            "+-------+----------+--------+\n",
            "\n"
          ]
        }
      ]
    },
    {
      "cell_type": "code",
      "source": [
        "unpivotExpr = \"stack(2, 'Gisborne',Gisborne,'Canterbury',Canterbury) as (region,total_earnings)\"\n",
        "\n",
        "unPivotDF = df1.select(\"period\", expr(unpivotExpr))\n",
        "\n",
        "unPivotDF.show()"
      ],
      "metadata": {
        "colab": {
          "base_uri": "https://localhost:8080/"
        },
        "id": "L8J95ehcXVc9",
        "outputId": "bebc6efd-86cb-4d4b-e986-b016ece70570"
      },
      "execution_count": 12,
      "outputs": [
        {
          "output_type": "stream",
          "name": "stdout",
          "text": [
            "+-------+----------+--------------+\n",
            "| period|    region|total_earnings|\n",
            "+-------+----------+--------------+\n",
            "|2022.12|  Gisborne|           326|\n",
            "|2022.12|Canterbury|          5113|\n",
            "|2022.03|  Gisborne|           304|\n",
            "|2022.03|Canterbury|          4607|\n",
            "|2020.12|  Gisborne|           286|\n",
            "|2020.12|Canterbury|          4266|\n",
            "|2021.03|  Gisborne|           285|\n",
            "|2021.03|Canterbury|          4196|\n",
            "|2021.06|  Gisborne|           291|\n",
            "|2021.06|Canterbury|          4341|\n",
            "|2021.12|  Gisborne|           319|\n",
            "|2021.12|Canterbury|          4734|\n",
            "|2022.09|  Gisborne|           321|\n",
            "|2022.09|Canterbury|          4900|\n",
            "|2022.06|  Gisborne|           316|\n",
            "|2022.06|Canterbury|          4762|\n",
            "|2021.09|  Gisborne|           295|\n",
            "|2021.09|Canterbury|          4450|\n",
            "|2020.09|  Gisborne|           276|\n",
            "|2020.09|Canterbury|          4232|\n",
            "+-------+----------+--------------+\n",
            "\n"
          ]
        }
      ]
    }
  ]
}