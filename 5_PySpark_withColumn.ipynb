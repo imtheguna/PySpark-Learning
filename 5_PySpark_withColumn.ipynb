{
  "nbformat": 4,
  "nbformat_minor": 0,
  "metadata": {
    "colab": {
      "provenance": [],
      "authorship_tag": "ABX9TyNk4vQtLg3exQTdRvEBQI59",
      "include_colab_link": true
    },
    "kernelspec": {
      "name": "python3",
      "display_name": "Python 3"
    },
    "language_info": {
      "name": "python"
    }
  },
  "cells": [
    {
      "cell_type": "markdown",
      "metadata": {
        "id": "view-in-github",
        "colab_type": "text"
      },
      "source": [
        "<a href=\"https://colab.research.google.com/github/imtheguna/PySpark-Learning/blob/GoogleColab/5_PySpark_withColumn.ipynb\" target=\"_parent\"><img src=\"https://colab.research.google.com/assets/colab-badge.svg\" alt=\"Open In Colab\"/></a>"
      ]
    },
    {
      "cell_type": "code",
      "execution_count": 1,
      "metadata": {
        "colab": {
          "base_uri": "https://localhost:8080/"
        },
        "id": "7p7PGsODzxux",
        "outputId": "9bd566dc-e1e9-4467-f583-c5c283f81960"
      },
      "outputs": [
        {
          "output_type": "stream",
          "name": "stdout",
          "text": [
            "Get:1 https://developer.download.nvidia.com/compute/cuda/repos/ubuntu2204/x86_64  InRelease [1,581 B]\n",
            "Get:2 https://cloud.r-project.org/bin/linux/ubuntu jammy-cran40/ InRelease [3,622 B]\n",
            "Get:3 https://developer.download.nvidia.com/compute/cuda/repos/ubuntu2204/x86_64  Packages [830 kB]\n",
            "Get:4 http://security.ubuntu.com/ubuntu jammy-security InRelease [110 kB]\n",
            "Hit:5 http://archive.ubuntu.com/ubuntu jammy InRelease\n",
            "Get:6 http://archive.ubuntu.com/ubuntu jammy-updates InRelease [119 kB]\n",
            "Hit:7 https://ppa.launchpadcontent.net/c2d4u.team/c2d4u4.0+/ubuntu jammy InRelease\n",
            "Get:8 http://security.ubuntu.com/ubuntu jammy-security/universe amd64 Packages [1,082 kB]\n",
            "Get:9 http://archive.ubuntu.com/ubuntu jammy-backports InRelease [109 kB]\n",
            "Get:10 https://ppa.launchpadcontent.net/deadsnakes/ppa/ubuntu jammy InRelease [18.1 kB]\n",
            "Hit:11 https://ppa.launchpadcontent.net/graphics-drivers/ppa/ubuntu jammy InRelease\n",
            "Get:12 http://archive.ubuntu.com/ubuntu jammy-updates/main amd64 Packages [2,069 kB]\n",
            "Get:13 http://security.ubuntu.com/ubuntu jammy-security/main amd64 Packages [1,798 kB]\n",
            "Hit:14 https://ppa.launchpadcontent.net/ubuntugis/ppa/ubuntu jammy InRelease\n",
            "Get:15 https://ppa.launchpadcontent.net/deadsnakes/ppa/ubuntu jammy/main amd64 Packages [27.8 kB]\n",
            "Get:16 http://archive.ubuntu.com/ubuntu jammy-updates/universe amd64 Packages [1,374 kB]\n",
            "Fetched 7,542 kB in 4s (1,857 kB/s)\n",
            "Reading package lists... Done\n",
            "sample_data  spark-3.1.1-bin-hadoop3.2\tspark-3.1.1-bin-hadoop3.2.tgz\n",
            "Collecting pyspark\n",
            "  Downloading pyspark-3.5.1.tar.gz (317.0 MB)\n",
            "\u001b[2K     \u001b[90m━━━━━━━━━━━━━━━━━━━━━━━━━━━━━━━━━━━━━━━━\u001b[0m \u001b[32m317.0/317.0 MB\u001b[0m \u001b[31m4.4 MB/s\u001b[0m eta \u001b[36m0:00:00\u001b[0m\n",
            "\u001b[?25h  Preparing metadata (setup.py) ... \u001b[?25l\u001b[?25hdone\n",
            "Requirement already satisfied: py4j==0.10.9.7 in /usr/local/lib/python3.10/dist-packages (from pyspark) (0.10.9.7)\n",
            "Building wheels for collected packages: pyspark\n",
            "  Building wheel for pyspark (setup.py) ... \u001b[?25l\u001b[?25hdone\n",
            "  Created wheel for pyspark: filename=pyspark-3.5.1-py2.py3-none-any.whl size=317488491 sha256=8523f9f7ce2fcdec27b2690a67afcd9a7dd1e2d1a849cd8aa4339cbcce08c9cf\n",
            "  Stored in directory: /root/.cache/pip/wheels/80/1d/60/2c256ed38dddce2fdd93be545214a63e02fbd8d74fb0b7f3a6\n",
            "Successfully built pyspark\n",
            "Installing collected packages: pyspark\n",
            "Successfully installed pyspark-3.5.1\n"
          ]
        }
      ],
      "source": [
        "!apt-get update # Update apt-get repository.\n",
        "!apt-get install openjdk-8-jdk-headless -qq > /dev/null # Install Java.\n",
        "!wget -q http://archive.apache.org/dist/spark/spark-3.1.1/spark-3.1.1-bin-hadoop3.2.tgz # Download Apache Sparks.\n",
        "!tar xf spark-3.1.1-bin-hadoop3.2.tgz # Unzip the tgz file.\n",
        "!pip install -q findspark # Install findspark. Adds PySpark to the System path during runtime.\n",
        "\n",
        "# Set environment variables\n",
        "import os\n",
        "os.environ[\"JAVA_HOME\"] = \"/usr/lib/jvm/java-8-openjdk-amd64\"\n",
        "os.environ[\"SPARK_HOME\"] = \"/content/spark-3.1.1-bin-hadoop3.2\"\n",
        "\n",
        "!ls\n",
        "\n",
        "# Initialize findspark\n",
        "import findspark\n",
        "findspark.init()\n",
        "!pip install pyspark"
      ]
    },
    {
      "cell_type": "code",
      "source": [
        "from pyspark.sql import SparkSession\n",
        "from pyspark.sql.functions import *\n",
        "\n",
        "spark = SparkSession \\\n",
        "      .builder \\\n",
        "      .appName('SelectColumns').getOrCreate()\n",
        "\n",
        "df = spark.read.csv('/content/data2.csv',header=True,inferSchema=True)\n",
        "\n",
        "df.show(1)"
      ],
      "metadata": {
        "colab": {
          "base_uri": "https://localhost:8080/"
        },
        "id": "9qavj3dZz8WF",
        "outputId": "6a746db1-7828-46ab-c1ee-b197bfe996ef"
      },
      "execution_count": 5,
      "outputs": [
        {
          "output_type": "stream",
          "name": "stdout",
          "text": [
            "+-------+----------------+-----------+-----------+-------------------+----------------+------------------+--------------+----------------------+-------------+---------------+\n",
            "| period|series_reference|region_name|filled jobs|filled jobs revised|filled jobs diff|filled jobs % diff|total_earnings|total earnings revised|earnings diff|earnings % diff|\n",
            "+-------+----------------+-----------+-----------+-------------------+----------------+------------------+--------------+----------------------+-------------+---------------+\n",
            "|2020.09|     BDCQ.SED1RA|  Northland|      65520|              65904|             384|               0.6|           953|                   959|            6|            0.6|\n",
            "+-------+----------------+-----------+-----------+-------------------+----------------+------------------+--------------+----------------------+-------------+---------------+\n",
            "only showing top 1 row\n",
            "\n"
          ]
        }
      ]
    },
    {
      "cell_type": "code",
      "source": [
        "## Renaming a column\n",
        "\n",
        "df1 = df.withColumn('region',col('region_name'))\n",
        "\n",
        "df1 = df1.drop(col('region_name'))\n",
        "\n",
        "df1.show(1)"
      ],
      "metadata": {
        "colab": {
          "base_uri": "https://localhost:8080/"
        },
        "id": "B8He5xAD0jFi",
        "outputId": "37068310-2166-4d93-a400-9e69737fe9da"
      },
      "execution_count": 8,
      "outputs": [
        {
          "output_type": "stream",
          "name": "stdout",
          "text": [
            "+-------+----------------+-----------+-------------------+----------------+------------------+--------------+----------------------+-------------+---------------+---------+\n",
            "| period|series_reference|filled jobs|filled jobs revised|filled jobs diff|filled jobs % diff|total_earnings|total earnings revised|earnings diff|earnings % diff|   region|\n",
            "+-------+----------------+-----------+-------------------+----------------+------------------+--------------+----------------------+-------------+---------------+---------+\n",
            "|2020.09|     BDCQ.SED1RA|      65520|              65904|             384|               0.6|           953|                   959|            6|            0.6|Northland|\n",
            "+-------+----------------+-----------+-------------------+----------------+------------------+--------------+----------------------+-------------+---------------+---------+\n",
            "only showing top 1 row\n",
            "\n"
          ]
        }
      ]
    },
    {
      "cell_type": "code",
      "source": [
        "## Applying a function to a column\n",
        "\n",
        "df1 = df.withColumn('region_name',expr('upper(region_name)'))\n",
        "\n",
        "df1.show(1)"
      ],
      "metadata": {
        "colab": {
          "base_uri": "https://localhost:8080/"
        },
        "id": "QQCGr6F51UvJ",
        "outputId": "5e18cb31-d5ce-466e-f813-30aed4cc3594"
      },
      "execution_count": 13,
      "outputs": [
        {
          "output_type": "stream",
          "name": "stdout",
          "text": [
            "+-------+----------------+-----------+-----------+-------------------+----------------+------------------+--------------+----------------------+-------------+---------------+\n",
            "| period|series_reference|region_name|filled jobs|filled jobs revised|filled jobs diff|filled jobs % diff|total_earnings|total earnings revised|earnings diff|earnings % diff|\n",
            "+-------+----------------+-----------+-----------+-------------------+----------------+------------------+--------------+----------------------+-------------+---------------+\n",
            "|2020.09|     BDCQ.SED1RA|  NORTHLAND|      65520|              65904|             384|               0.6|           953|                   959|            6|            0.6|\n",
            "+-------+----------------+-----------+-----------+-------------------+----------------+------------------+--------------+----------------------+-------------+---------------+\n",
            "only showing top 1 row\n",
            "\n"
          ]
        }
      ]
    },
    {
      "cell_type": "code",
      "source": [
        "## Conditional column update with “withColumn”\n",
        "\n",
        "df1 = df.withColumn('total_earnings_type',when(col('total_earnings')>1000,'High').otherwise('Low'))\n",
        "\n",
        "df1.show(10)"
      ],
      "metadata": {
        "colab": {
          "base_uri": "https://localhost:8080/"
        },
        "id": "E9Hdo6cB12gP",
        "outputId": "ff17d972-a9c4-4db7-821e-0236f78c1754"
      },
      "execution_count": 16,
      "outputs": [
        {
          "output_type": "stream",
          "name": "stdout",
          "text": [
            "+-------+----------------+------------------+-----------+-------------------+----------------+------------------+--------------+----------------------+-------------+---------------+-------------------+\n",
            "| period|series_reference|       region_name|filled jobs|filled jobs revised|filled jobs diff|filled jobs % diff|total_earnings|total earnings revised|earnings diff|earnings % diff|total_earnings_type|\n",
            "+-------+----------------+------------------+-----------+-------------------+----------------+------------------+--------------+----------------------+-------------+---------------+-------------------+\n",
            "|2020.09|     BDCQ.SED1RA|         Northland|      65520|              65904|             384|               0.6|           953|                   959|            6|            0.6|                Low|\n",
            "|2020.09|     BDCQ.SED1RB|          Auckland|     708372|             714506|            6134|               0.9|         12420|                 12530|          110|            0.9|               High|\n",
            "|2020.09|     BDCQ.SED1RC|           Waikato|     198776|             200265|            1489|               0.7|          3041|                  3058|           17|            0.6|               High|\n",
            "|2020.09|     BDCQ.SED1RD|     Bay of Plenty|     127323|             128540|            1217|               1.0|          1881|                  1899|           18|            1.0|               High|\n",
            "|2020.09|     BDCQ.SED1RE|          Gisborne|      20417|              20632|             215|               1.1|           276|                   279|            3|            1.1|                Low|\n",
            "|2020.09|     BDCQ.SED1RF|       Hawke's Bay|      71967|              72600|             633|               0.9|          1028|                  1036|            8|            0.8|               High|\n",
            "|2020.09|     BDCQ.SED1RG|          Taranaki|      49239|              49599|             360|               0.7|           745|                   750|            5|            0.7|                Low|\n",
            "|2020.09|     BDCQ.SED1RH|Manawatu-Whanganui|     101946|             102617|             671|               0.7|          1455|                  1464|            9|            0.6|               High|\n",
            "|2020.09|     BDCQ.SED1RI|        Wellington|     237102|             239076|            1974|               0.8|          4358|                  4394|           36|            0.8|               High|\n",
            "|2020.09|     BDCQ.SED1RJ|            Tasman|      22298|              22482|             184|               0.8|           307|                   309|            2|            0.7|                Low|\n",
            "+-------+----------------+------------------+-----------+-------------------+----------------+------------------+--------------+----------------------+-------------+---------------+-------------------+\n",
            "only showing top 10 rows\n",
            "\n"
          ]
        }
      ]
    },
    {
      "cell_type": "code",
      "source": [
        "## Using a User-Defined Function (UDF) with “withColumn”\n",
        "from pyspark.sql.types import StringType\n",
        "\n",
        "def total_earnings_type(amt):\n",
        "  if amt>1000:\n",
        "    return 'High'\n",
        "  return 'Low'\n",
        "\n",
        "get_total_earnings_type = udf(total_earnings_type,StringType())\n",
        "\n",
        "df1 = df.withColumn('total_earnings_type',get_total_earnings_type(col('total_earnings')))\n",
        "\n",
        "df1.show(10)"
      ],
      "metadata": {
        "colab": {
          "base_uri": "https://localhost:8080/"
        },
        "id": "d_bvRU262WyW",
        "outputId": "e1cfa53a-bca1-48f1-c385-b5f0d0916f09"
      },
      "execution_count": 18,
      "outputs": [
        {
          "output_type": "stream",
          "name": "stdout",
          "text": [
            "+-------+----------------+------------------+-----------+-------------------+----------------+------------------+--------------+----------------------+-------------+---------------+-------------------+\n",
            "| period|series_reference|       region_name|filled jobs|filled jobs revised|filled jobs diff|filled jobs % diff|total_earnings|total earnings revised|earnings diff|earnings % diff|total_earnings_type|\n",
            "+-------+----------------+------------------+-----------+-------------------+----------------+------------------+--------------+----------------------+-------------+---------------+-------------------+\n",
            "|2020.09|     BDCQ.SED1RA|         Northland|      65520|              65904|             384|               0.6|           953|                   959|            6|            0.6|                Low|\n",
            "|2020.09|     BDCQ.SED1RB|          Auckland|     708372|             714506|            6134|               0.9|         12420|                 12530|          110|            0.9|               High|\n",
            "|2020.09|     BDCQ.SED1RC|           Waikato|     198776|             200265|            1489|               0.7|          3041|                  3058|           17|            0.6|               High|\n",
            "|2020.09|     BDCQ.SED1RD|     Bay of Plenty|     127323|             128540|            1217|               1.0|          1881|                  1899|           18|            1.0|               High|\n",
            "|2020.09|     BDCQ.SED1RE|          Gisborne|      20417|              20632|             215|               1.1|           276|                   279|            3|            1.1|                Low|\n",
            "|2020.09|     BDCQ.SED1RF|       Hawke's Bay|      71967|              72600|             633|               0.9|          1028|                  1036|            8|            0.8|               High|\n",
            "|2020.09|     BDCQ.SED1RG|          Taranaki|      49239|              49599|             360|               0.7|           745|                   750|            5|            0.7|                Low|\n",
            "|2020.09|     BDCQ.SED1RH|Manawatu-Whanganui|     101946|             102617|             671|               0.7|          1455|                  1464|            9|            0.6|               High|\n",
            "|2020.09|     BDCQ.SED1RI|        Wellington|     237102|             239076|            1974|               0.8|          4358|                  4394|           36|            0.8|               High|\n",
            "|2020.09|     BDCQ.SED1RJ|            Tasman|      22298|              22482|             184|               0.8|           307|                   309|            2|            0.7|                Low|\n",
            "+-------+----------------+------------------+-----------+-------------------+----------------+------------------+--------------+----------------------+-------------+---------------+-------------------+\n",
            "only showing top 10 rows\n",
            "\n"
          ]
        }
      ]
    },
    {
      "cell_type": "code",
      "source": [
        "## Combining multiple columns into one\n",
        "\n",
        "## We will use the “concat_ws” function, which allows us to concatenate multiple columns with a specified delimiter.\n",
        "\n",
        "df1 = df.withColumn('total_earnings_type',\n",
        "                    concat_ws('-',col('total_earnings'),get_total_earnings_type(col('total_earnings'))))\n",
        "df1.show(5)"
      ],
      "metadata": {
        "colab": {
          "base_uri": "https://localhost:8080/"
        },
        "id": "C1S8WZ1t3NIS",
        "outputId": "af39d460-b73c-4350-9558-2d7a8eb5397f"
      },
      "execution_count": 19,
      "outputs": [
        {
          "output_type": "stream",
          "name": "stdout",
          "text": [
            "+-------+----------------+-------------+-----------+-------------------+----------------+------------------+--------------+----------------------+-------------+---------------+-------------------+\n",
            "| period|series_reference|  region_name|filled jobs|filled jobs revised|filled jobs diff|filled jobs % diff|total_earnings|total earnings revised|earnings diff|earnings % diff|total_earnings_type|\n",
            "+-------+----------------+-------------+-----------+-------------------+----------------+------------------+--------------+----------------------+-------------+---------------+-------------------+\n",
            "|2020.09|     BDCQ.SED1RA|    Northland|      65520|              65904|             384|               0.6|           953|                   959|            6|            0.6|            953-Low|\n",
            "|2020.09|     BDCQ.SED1RB|     Auckland|     708372|             714506|            6134|               0.9|         12420|                 12530|          110|            0.9|         12420-High|\n",
            "|2020.09|     BDCQ.SED1RC|      Waikato|     198776|             200265|            1489|               0.7|          3041|                  3058|           17|            0.6|          3041-High|\n",
            "|2020.09|     BDCQ.SED1RD|Bay of Plenty|     127323|             128540|            1217|               1.0|          1881|                  1899|           18|            1.0|          1881-High|\n",
            "|2020.09|     BDCQ.SED1RE|     Gisborne|      20417|              20632|             215|               1.1|           276|                   279|            3|            1.1|            276-Low|\n",
            "+-------+----------------+-------------+-----------+-------------------+----------------+------------------+--------------+----------------------+-------------+---------------+-------------------+\n",
            "only showing top 5 rows\n",
            "\n"
          ]
        }
      ]
    }
  ]
}