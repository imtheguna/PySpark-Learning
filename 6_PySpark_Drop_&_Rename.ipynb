{
  "nbformat": 4,
  "nbformat_minor": 0,
  "metadata": {
    "colab": {
      "provenance": [],
      "authorship_tag": "ABX9TyNK+WJCej+S3WSID1Hr7M2O",
      "include_colab_link": true
    },
    "kernelspec": {
      "name": "python3",
      "display_name": "Python 3"
    },
    "language_info": {
      "name": "python"
    }
  },
  "cells": [
    {
      "cell_type": "markdown",
      "metadata": {
        "id": "view-in-github",
        "colab_type": "text"
      },
      "source": [
        "<a href=\"https://colab.research.google.com/github/imtheguna/PySpark-Learning/blob/GoogleColab/6_PySpark_Drop_%26_Rename.ipynb\" target=\"_parent\"><img src=\"https://colab.research.google.com/assets/colab-badge.svg\" alt=\"Open In Colab\"/></a>"
      ]
    },
    {
      "cell_type": "code",
      "execution_count": 1,
      "metadata": {
        "colab": {
          "base_uri": "https://localhost:8080/"
        },
        "id": "Q7PwG-FD4Ph_",
        "outputId": "626b7f2f-0bd1-436f-9170-2546e257d438"
      },
      "outputs": [
        {
          "output_type": "stream",
          "name": "stdout",
          "text": [
            "\r0% [Working]\r            \rHit:1 http://archive.ubuntu.com/ubuntu jammy InRelease\n",
            "\r0% [Waiting for headers] [Connecting to security.ubuntu.com (185.125.190.36)] [Connected to cloud.r-\r                                                                                                    \rGet:2 http://archive.ubuntu.com/ubuntu jammy-updates InRelease [119 kB]\n",
            "\r                                                                                                    \rGet:3 https://cloud.r-project.org/bin/linux/ubuntu jammy-cran40/ InRelease [3,622 B]\n",
            "Get:4 https://developer.download.nvidia.com/compute/cuda/repos/ubuntu2204/x86_64  InRelease [1,581 B]\n",
            "Get:5 http://archive.ubuntu.com/ubuntu jammy-backports InRelease [109 kB]\n",
            "Get:6 http://security.ubuntu.com/ubuntu jammy-security InRelease [110 kB]\n",
            "Hit:7 https://ppa.launchpadcontent.net/c2d4u.team/c2d4u4.0+/ubuntu jammy InRelease\n",
            "Get:8 https://ppa.launchpadcontent.net/deadsnakes/ppa/ubuntu jammy InRelease [18.1 kB]\n",
            "Hit:9 https://ppa.launchpadcontent.net/graphics-drivers/ppa/ubuntu jammy InRelease\n",
            "Hit:10 https://ppa.launchpadcontent.net/ubuntugis/ppa/ubuntu jammy InRelease\n",
            "Get:11 https://developer.download.nvidia.com/compute/cuda/repos/ubuntu2204/x86_64  Packages [830 kB]\n",
            "Get:12 http://archive.ubuntu.com/ubuntu jammy-updates/universe amd64 Packages [1,374 kB]\n",
            "Get:13 http://archive.ubuntu.com/ubuntu jammy-updates/main amd64 Packages [2,069 kB]\n",
            "Get:14 http://security.ubuntu.com/ubuntu jammy-security/universe amd64 Packages [1,082 kB]\n",
            "Get:15 https://ppa.launchpadcontent.net/deadsnakes/ppa/ubuntu jammy/main amd64 Packages [27.8 kB]\n",
            "Get:16 http://security.ubuntu.com/ubuntu jammy-security/main amd64 Packages [1,798 kB]\n",
            "Fetched 7,542 kB in 4s (1,893 kB/s)\n",
            "Reading package lists... Done\n",
            "data2.csv  sample_data\tspark-3.1.1-bin-hadoop3.2  spark-3.1.1-bin-hadoop3.2.tgz\n",
            "Collecting pyspark\n",
            "  Downloading pyspark-3.5.1.tar.gz (317.0 MB)\n",
            "\u001b[2K     \u001b[90m━━━━━━━━━━━━━━━━━━━━━━━━━━━━━━━━━━━━━━━━\u001b[0m \u001b[32m317.0/317.0 MB\u001b[0m \u001b[31m3.8 MB/s\u001b[0m eta \u001b[36m0:00:00\u001b[0m\n",
            "\u001b[?25h  Preparing metadata (setup.py) ... \u001b[?25l\u001b[?25hdone\n",
            "Requirement already satisfied: py4j==0.10.9.7 in /usr/local/lib/python3.10/dist-packages (from pyspark) (0.10.9.7)\n",
            "Building wheels for collected packages: pyspark\n",
            "  Building wheel for pyspark (setup.py) ... \u001b[?25l\u001b[?25hdone\n",
            "  Created wheel for pyspark: filename=pyspark-3.5.1-py2.py3-none-any.whl size=317488491 sha256=ebca53003e0439f79d140bdd04ce7c2f100479c82ebefd9a55bb4c219fc06a0d\n",
            "  Stored in directory: /root/.cache/pip/wheels/80/1d/60/2c256ed38dddce2fdd93be545214a63e02fbd8d74fb0b7f3a6\n",
            "Successfully built pyspark\n",
            "Installing collected packages: pyspark\n",
            "Successfully installed pyspark-3.5.1\n"
          ]
        }
      ],
      "source": [
        "!apt-get update # Update apt-get repository.\n",
        "!apt-get install openjdk-8-jdk-headless -qq > /dev/null # Install Java.\n",
        "!wget -q http://archive.apache.org/dist/spark/spark-3.1.1/spark-3.1.1-bin-hadoop3.2.tgz # Download Apache Sparks.\n",
        "!tar xf spark-3.1.1-bin-hadoop3.2.tgz # Unzip the tgz file.\n",
        "!pip install -q findspark # Install findspark. Adds PySpark to the System path during runtime.\n",
        "\n",
        "# Set environment variables\n",
        "import os\n",
        "os.environ[\"JAVA_HOME\"] = \"/usr/lib/jvm/java-8-openjdk-amd64\"\n",
        "os.environ[\"SPARK_HOME\"] = \"/content/spark-3.1.1-bin-hadoop3.2\"\n",
        "\n",
        "!ls\n",
        "\n",
        "# Initialize findspark\n",
        "import findspark\n",
        "findspark.init()\n",
        "!pip install pyspark"
      ]
    },
    {
      "cell_type": "code",
      "source": [
        "from pyspark.sql import SparkSession\n",
        "from pyspark.sql.functions import *\n",
        "\n",
        "spark = SparkSession \\\n",
        "      .builder \\\n",
        "      .appName('SelectColumns').getOrCreate()\n",
        "\n",
        "df = spark.read.csv('/content/data2.csv',header=True,inferSchema=True)\n",
        "\n",
        "df.show(1)"
      ],
      "metadata": {
        "colab": {
          "base_uri": "https://localhost:8080/"
        },
        "id": "xs25U9lF4hRn",
        "outputId": "798df34a-19df-4c72-b2c4-5a071fccbbcf"
      },
      "execution_count": 2,
      "outputs": [
        {
          "output_type": "stream",
          "name": "stdout",
          "text": [
            "+-------+----------------+-----------+-----------+-------------------+----------------+------------------+--------------+----------------------+-------------+---------------+\n",
            "| period|series_reference|region_name|filled jobs|filled jobs revised|filled jobs diff|filled jobs % diff|total_earnings|total earnings revised|earnings diff|earnings % diff|\n",
            "+-------+----------------+-----------+-----------+-------------------+----------------+------------------+--------------+----------------------+-------------+---------------+\n",
            "|2020.09|     BDCQ.SED1RA|  Northland|      65520|              65904|             384|               0.6|           953|                   959|            6|            0.6|\n",
            "+-------+----------------+-----------+-----------+-------------------+----------------+------------------+--------------+----------------------+-------------+---------------+\n",
            "only showing top 1 row\n",
            "\n"
          ]
        }
      ]
    },
    {
      "cell_type": "code",
      "source": [
        "## Drop single column and Multiple columns and from list\n",
        "\n",
        "df1 = df.drop('period')\n",
        "\n",
        "df1.show(2)\n",
        "\n",
        "df1 = df.drop('series_reference','region_name')\n",
        "\n",
        "df1.show(2)\n",
        "\n",
        "drop_columns = ['total_earnings','region_name']\n",
        "\n",
        "df1 = df.drop(*drop_columns)\n",
        "\n",
        "df1.show(2)"
      ],
      "metadata": {
        "colab": {
          "base_uri": "https://localhost:8080/"
        },
        "id": "8yUyUAXY4jS3",
        "outputId": "f4ff732c-8bcf-415e-a567-0d5506ddf4d4"
      },
      "execution_count": 4,
      "outputs": [
        {
          "output_type": "stream",
          "name": "stdout",
          "text": [
            "+----------------+-----------+-----------+-------------------+----------------+------------------+--------------+----------------------+-------------+---------------+\n",
            "|series_reference|region_name|filled jobs|filled jobs revised|filled jobs diff|filled jobs % diff|total_earnings|total earnings revised|earnings diff|earnings % diff|\n",
            "+----------------+-----------+-----------+-------------------+----------------+------------------+--------------+----------------------+-------------+---------------+\n",
            "|     BDCQ.SED1RA|  Northland|      65520|              65904|             384|               0.6|           953|                   959|            6|            0.6|\n",
            "|     BDCQ.SED1RB|   Auckland|     708372|             714506|            6134|               0.9|         12420|                 12530|          110|            0.9|\n",
            "+----------------+-----------+-----------+-------------------+----------------+------------------+--------------+----------------------+-------------+---------------+\n",
            "only showing top 2 rows\n",
            "\n",
            "+-------+-----------+-------------------+----------------+------------------+--------------+----------------------+-------------+---------------+\n",
            "| period|filled jobs|filled jobs revised|filled jobs diff|filled jobs % diff|total_earnings|total earnings revised|earnings diff|earnings % diff|\n",
            "+-------+-----------+-------------------+----------------+------------------+--------------+----------------------+-------------+---------------+\n",
            "|2020.09|      65520|              65904|             384|               0.6|           953|                   959|            6|            0.6|\n",
            "|2020.09|     708372|             714506|            6134|               0.9|         12420|                 12530|          110|            0.9|\n",
            "+-------+-----------+-------------------+----------------+------------------+--------------+----------------------+-------------+---------------+\n",
            "only showing top 2 rows\n",
            "\n",
            "+-------+----------------+-----------+-------------------+----------------+------------------+----------------------+-------------+---------------+\n",
            "| period|series_reference|filled jobs|filled jobs revised|filled jobs diff|filled jobs % diff|total earnings revised|earnings diff|earnings % diff|\n",
            "+-------+----------------+-----------+-------------------+----------------+------------------+----------------------+-------------+---------------+\n",
            "|2020.09|     BDCQ.SED1RA|      65520|              65904|             384|               0.6|                   959|            6|            0.6|\n",
            "|2020.09|     BDCQ.SED1RB|     708372|             714506|            6134|               0.9|                 12530|          110|            0.9|\n",
            "+-------+----------------+-----------+-------------------+----------------+------------------+----------------------+-------------+---------------+\n",
            "only showing top 2 rows\n",
            "\n"
          ]
        }
      ]
    },
    {
      "cell_type": "code",
      "source": [
        "## Renaming Columns Using ‘withColumnRenamed’\n",
        "\n",
        "df1 = df.withColumnRenamed('period','period_time')\n",
        "\n",
        "df1.show(2)\n",
        "\n",
        "## Renaming Columns Using ‘select’ and ‘alias’\n",
        "\n",
        "df1 = df.select(col('period').alias('period_time'))\n",
        "\n",
        "df1.show(2)\n",
        "\n",
        "## Renaming Columns Using ‘toDF’\n",
        "\n",
        "df1 = df1.toDF('period')\n",
        "\n",
        "df1.show(2)\n"
      ],
      "metadata": {
        "colab": {
          "base_uri": "https://localhost:8080/"
        },
        "id": "PEmDf-CEEJrB",
        "outputId": "e8186f51-e1e2-4b1c-8dee-1246a04d8dc4"
      },
      "execution_count": 8,
      "outputs": [
        {
          "output_type": "stream",
          "name": "stdout",
          "text": [
            "+-----------+----------------+-----------+-----------+-------------------+----------------+------------------+--------------+----------------------+-------------+---------------+\n",
            "|period_time|series_reference|region_name|filled jobs|filled jobs revised|filled jobs diff|filled jobs % diff|total_earnings|total earnings revised|earnings diff|earnings % diff|\n",
            "+-----------+----------------+-----------+-----------+-------------------+----------------+------------------+--------------+----------------------+-------------+---------------+\n",
            "|    2020.09|     BDCQ.SED1RA|  Northland|      65520|              65904|             384|               0.6|           953|                   959|            6|            0.6|\n",
            "|    2020.09|     BDCQ.SED1RB|   Auckland|     708372|             714506|            6134|               0.9|         12420|                 12530|          110|            0.9|\n",
            "+-----------+----------------+-----------+-----------+-------------------+----------------+------------------+--------------+----------------------+-------------+---------------+\n",
            "only showing top 2 rows\n",
            "\n",
            "+-----------+\n",
            "|period_time|\n",
            "+-----------+\n",
            "|    2020.09|\n",
            "|    2020.09|\n",
            "+-----------+\n",
            "only showing top 2 rows\n",
            "\n",
            "+-------+\n",
            "| period|\n",
            "+-------+\n",
            "|2020.09|\n",
            "|2020.09|\n",
            "+-------+\n",
            "only showing top 2 rows\n",
            "\n"
          ]
        }
      ]
    },
    {
      "cell_type": "code",
      "source": [
        "## Renaming Multiple Columns\n",
        "\n",
        "df1 = df.withColumnRenamed('period','period_time') \\\n",
        "      .withColumnRenamed('region_name','region')\n",
        "\n",
        "df1.show(2)"
      ],
      "metadata": {
        "colab": {
          "base_uri": "https://localhost:8080/"
        },
        "id": "FqSdE7VNF4dF",
        "outputId": "2f61c3ba-7b31-4ecd-e006-e233e1dee4fa"
      },
      "execution_count": 10,
      "outputs": [
        {
          "output_type": "stream",
          "name": "stdout",
          "text": [
            "+-----------+----------------+---------+-----------+-------------------+----------------+------------------+--------------+----------------------+-------------+---------------+\n",
            "|period_time|series_reference|   region|filled jobs|filled jobs revised|filled jobs diff|filled jobs % diff|total_earnings|total earnings revised|earnings diff|earnings % diff|\n",
            "+-----------+----------------+---------+-----------+-------------------+----------------+------------------+--------------+----------------------+-------------+---------------+\n",
            "|    2020.09|     BDCQ.SED1RA|Northland|      65520|              65904|             384|               0.6|           953|                   959|            6|            0.6|\n",
            "|    2020.09|     BDCQ.SED1RB| Auckland|     708372|             714506|            6134|               0.9|         12420|                 12530|          110|            0.9|\n",
            "+-----------+----------------+---------+-----------+-------------------+----------------+------------------+--------------+----------------------+-------------+---------------+\n",
            "only showing top 2 rows\n",
            "\n"
          ]
        }
      ]
    }
  ]
}